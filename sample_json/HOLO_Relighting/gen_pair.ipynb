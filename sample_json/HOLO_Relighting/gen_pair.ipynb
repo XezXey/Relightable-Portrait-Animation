{
 "cells": [
  {
   "cell_type": "code",
   "execution_count": 1,
   "metadata": {},
   "outputs": [],
   "source": [
    "import json\n",
    "mapping_train = {\n",
    "    'f4_main_out_1.png': '11133.jpg',\n",
    "    'f4_main_out_2.png': '11734.jpg',\n",
    "    'f4_main_out_3.png': '27165.jpg',\n",
    "    'f6_main_out_1.png': '46881.jpg',\n",
    "    'f6_main_out_2.png': '46178.jpg',\n",
    "    'f6_main_out_3.png': '51645.jpg',\n",
    "    'f6_sup_out_1.png': '27165.jpg',\n",
    "    'f6_sup_out_2.png': '11737.jpg',\n",
    "    'f6_sup_out_3.png': '19220.jpg',\n",
    "    'f6_sup_out_4.png': '27001.jpg',\n",
    "    'f6_sup_out_5.png': '27146.jpg',\n",
    "    'f6_sup_out_6.png': '11653.jpg',\n",
    "    'f6_sup_out_7.png': '11325.jpg',\n",
    "    'f7_sup_out_1.png': '6061.jpg',\n",
    "    'f7_sup_out_2.png': '46299.jpg',\n",
    "    'f7_sup_out_3.png': '67183.jpg',\n",
    "    'f7_sup_out_4.png': '51727.jpg',\n",
    "    'f7_sup_out_5.png': '6093.jpg',\n",
    "}\n",
    "\n",
    "out_train = {'pair': {}}\n",
    "count = 0\n",
    "for k, v in mapping_train.items():\n",
    "    out_train['pair'][f'pair{count+1}'] = {\n",
    "        'src': v.replace('.jpg', '.png'),\n",
    "        'dst': k.replace('out', 'ref'),\n",
    "        'gt': k\n",
    "    }\n",
    "    count += 1\n",
    "with open('./holo_sj_valid.json', 'w') as f:\n",
    "    json.dump(out_train, f, indent=4)\n"
   ]
  },
  {
   "cell_type": "code",
   "execution_count": 18,
   "metadata": {},
   "outputs": [],
   "source": [
    "inp_path = '/data/mint/DPM_Dataset/HoloRelighting/images/valid/'\n",
    "out_path = '/data/mint/DPM_Dataset/HoloRelighting/images_aligned/valid/'\n",
    "from PIL import Image\n",
    "for k, v in mapping_train.items():\n",
    "    Image.open(inp_path + v).save(f'{out_path}/{v.replace(\".jpg\", \".png\")}')\n"
   ]
  },
  {
   "cell_type": "code",
   "execution_count": 7,
   "metadata": {},
   "outputs": [],
   "source": [
    "mapping_valid = {\n",
    "    'f7_sup_out_3.png': '67183.jpg'\n",
    "}\n",
    "\n",
    "\n",
    "out_valid = {'pair': {}}\n",
    "count = 0\n",
    "for k, v in mapping_valid.items():\n",
    "    out_valid['pair'][f'pair{count+1}'] = {\n",
    "        'src': v,\n",
    "        'dst': k.replace('out', 'ref')\n",
    "    }\n",
    "    count += 1\n",
    "with open('./holo_sj_valid.json', 'w') as f:\n",
    "    json.dump(out_valid, f, indent=4)"
   ]
  },
  {
   "cell_type": "code",
   "execution_count": 13,
   "metadata": {},
   "outputs": [
    {
     "name": "stdout",
     "output_type": "stream",
     "text": [
      "anno_11133.png anno_11734.png anno_27165.png anno_46881.png anno_46178.png anno_51645.png anno_27165.png anno_11737.png anno_19220.png anno_27001.png anno_27146.png anno_11653.png anno_11325.png anno_6061.png anno_46299.png anno_51727.png anno_6093.png anno_67183.png \n"
     ]
    }
   ],
   "source": [
    "import os\n",
    "copy_txt = ''\n",
    "for k, v in mapping_train.items():\n",
    "    copy_txt += f'anno_{v} '\n",
    "for k, v in mapping_valid.items():\n",
    "    copy_txt += f'anno_{v} '\n",
    "print(copy_txt.replace('.jpg', '.png'))\n",
    "\n",
    "path = '/data/mint/DPM_Dataset/HoloRelighting/face_segment_with_pupil/valid/anno/'\n",
    "\n",
    "for k, v in mapping_train.items():\n",
    "    os.system(f'cp {path}/tmp.png {path}/anno_{k}')\n",
    "    os.system(f'cp {path}/tmp.png {path}/anno_{k.replace(\"out\", \"ref\")}')\n",
    "for k, v in mapping_valid.items():\n",
    "    os.system(f'cp {path}/tmp.png {path}/anno_{k}')\n",
    "    os.system(f'cp {path}/tmp.png {path}/anno_{k.replace(\"out\", \"ref\")}')\n"
   ]
  },
  {
   "cell_type": "code",
   "execution_count": 14,
   "metadata": {},
   "outputs": [
    {
     "name": "stdout",
     "output_type": "stream",
     "text": [
      "11133.npy 11734.npy 27165.npy 46881.npy 46178.npy 51645.npy 27165.npy 11737.npy 19220.npy 27001.npy 27146.npy 11653.npy 11325.npy 6061.npy 46299.npy 51727.npy 6093.npy 67183.npy \n"
     ]
    }
   ],
   "source": [
    "copy_txt = ''\n",
    "for k, v in mapping_train.items():\n",
    "    copy_txt += f'{v} '\n",
    "for k, v in mapping_valid.items():\n",
    "    copy_txt += f'{v} '\n",
    "print(copy_txt.replace('.jpg', '.npy'))\n",
    "path = '/data/mint/DPM_Dataset/HoloRelighting/shadow_diff_SS_with_c_simplified/valid/'\n",
    "\n",
    "for k, v in mapping_train.items():\n",
    "    os.system(f\"cp {path}/tmp.npy {path}/{k.replace('.png', '.npy')}\")\n",
    "    os.system(f\"cp {path}/tmp.npy {path}/{k.replace('out', 'ref').replace('.png', '.npy')}\")\n",
    "\n",
    "for k, v in mapping_valid.items():\n",
    "    os.system(f\"cp {path}/tmp.npy {path}/{k.replace('.png', '.npy')}\")\n",
    "    os.system(f\"cp {path}/tmp.npy {path}/{k.replace('out', 'ref').replace('.png', '.npy')}\")"
   ]
  }
 ],
 "metadata": {
  "kernelspec": {
   "display_name": "dpm_sampling_deca_pysh",
   "language": "python",
   "name": "python3"
  },
  "language_info": {
   "codemirror_mode": {
    "name": "ipython",
    "version": 3
   },
   "file_extension": ".py",
   "mimetype": "text/x-python",
   "name": "python",
   "nbconvert_exporter": "python",
   "pygments_lexer": "ipython3",
   "version": "3.8.12"
  }
 },
 "nbformat": 4,
 "nbformat_minor": 2
}
