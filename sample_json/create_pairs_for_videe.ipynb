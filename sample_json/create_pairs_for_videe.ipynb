{
 "cells": [
  {
   "cell_type": "code",
   "execution_count": null,
   "metadata": {},
   "outputs": [],
   "source": [
    "import json\n",
    "import numpy as np\n",
    "\n",
    "# Taken from slide (Samples_for_RotateSH.ppt @ 6/11/2024)\n",
    "src = [63295, 69545, 66943, 66532, 65502, 60656, 68344, 60008, 63396, 68760, 69942, 66170, 64706, 63807, 62477, 61326, 64048, 61383, 61043, 67641, 66130, 66426, 66831, 60181, 65632, 62696, 60799, 60684, 64835, 65715, 64240, 63806, 69263, 63497, 60018, 64220, 68219, 62825, 66938, 66091, 65038, 64036, 66008, 64567, 65112, 67478, 64159, 62514, 65492, 66446, 66204, 69757, 62277, 67887, 63849, 68831, 66702, 65112, 66167, 67837, 68364, 66312, 65655, 60857, 69457, 68145, 63715, 65814, 61035, 69697, 69129, 65270, 67361, 66344, 66238]\n",
    "dst = 60065\n",
    "\n",
    "out = {'pair':{}}\n",
    "\n",
    "count = 0\n",
    "for s in src:\n",
    "    out['pair'][f'pair{count}'] = {'src':f'{s}.jpg', 'dst':f'{dst}.jpg'}\n",
    "    count += 1\n",
    "    \n",
    "with open('./DiFaReli++/video_supp.json', 'w') as f:\n",
    "    json.dump(out, f, indent=4)   "
   ]
  }
 ],
 "metadata": {
  "language_info": {
   "name": "python"
  }
 },
 "nbformat": 4,
 "nbformat_minor": 2
}
